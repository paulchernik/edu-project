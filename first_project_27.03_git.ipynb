{
 "cells": [
  {
   "cell_type": "code",
   "execution_count": 19,
   "metadata": {},
   "outputs": [],
   "source": [
    "import pandas as pd\n",
    "from datetime import timedelta\n",
    "import matplotlib.pyplot as plt\n",
    "import seaborn as sns"
   ]
  },
  {
   "cell_type": "code",
   "execution_count": 2,
   "metadata": {},
   "outputs": [],
   "source": [
    "olist_customers_dataset = pd.read_csv('/mnt/HC_Volume_18315164/home-jupyter/jupyter-p-chernik/olist_customers_dataset.csv')\n",
    "olist_orders_dataset = pd.read_csv('/mnt/HC_Volume_18315164/home-jupyter/jupyter-p-chernik/olist_orders_dataset.csv')\n",
    "olist_order_items_dataset = pd.read_csv('/mnt/HC_Volume_18315164/home-jupyter/jupyter-p-chernik/olist_order_items_dataset.csv')\n",
    "\n",
    "olist_orders_dataset['order_purchase_timestamp'] = pd.to_datetime(olist_orders_dataset['order_purchase_timestamp'])\n",
    "olist_orders_dataset['order_approved_at'] = pd.to_datetime(olist_orders_dataset['order_approved_at'])\n",
    "olist_orders_dataset['order_delivered_carrier_date'] = pd.to_datetime(olist_orders_dataset['order_delivered_carrier_date'])\n",
    "olist_orders_dataset['order_delivered_customer_date'] = pd.to_datetime(olist_orders_dataset['order_delivered_customer_date'])\n",
    "olist_orders_dataset['order_estimated_delivery_date'] = pd.to_datetime(olist_orders_dataset['order_estimated_delivery_date'])\n",
    "olist_order_items_dataset['shipping_limit_date'] = pd.to_datetime(olist_order_items_dataset['shipping_limit_date'])"
   ]
  },
  {
   "cell_type": "code",
   "execution_count": 26,
   "metadata": {},
   "outputs": [
    {
     "name": "stdout",
     "output_type": "stream",
     "text": [
      "<class 'pandas.core.frame.DataFrame'>\n",
      "RangeIndex: 99441 entries, 0 to 99440\n",
      "Data columns (total 5 columns):\n",
      " #   Column                    Non-Null Count  Dtype \n",
      "---  ------                    --------------  ----- \n",
      " 0   customer_id               99441 non-null  object\n",
      " 1   customer_unique_id        99441 non-null  object\n",
      " 2   customer_zip_code_prefix  99441 non-null  int64 \n",
      " 3   customer_city             99441 non-null  object\n",
      " 4   customer_state            99441 non-null  object\n",
      "dtypes: int64(1), object(4)\n",
      "memory usage: 3.8+ MB\n"
     ]
    }
   ],
   "source": [
    "olist_customers_dataset.info()"
   ]
  },
  {
   "cell_type": "code",
   "execution_count": 25,
   "metadata": {},
   "outputs": [
    {
     "name": "stdout",
     "output_type": "stream",
     "text": [
      "<class 'pandas.core.frame.DataFrame'>\n",
      "RangeIndex: 99441 entries, 0 to 99440\n",
      "Data columns (total 8 columns):\n",
      " #   Column                         Non-Null Count  Dtype         \n",
      "---  ------                         --------------  -----         \n",
      " 0   order_id                       99441 non-null  object        \n",
      " 1   customer_id                    99441 non-null  object        \n",
      " 2   order_status                   99441 non-null  object        \n",
      " 3   order_purchase_timestamp       99441 non-null  datetime64[ns]\n",
      " 4   order_approved_at              99281 non-null  datetime64[ns]\n",
      " 5   order_delivered_carrier_date   97658 non-null  datetime64[ns]\n",
      " 6   order_delivered_customer_date  96476 non-null  datetime64[ns]\n",
      " 7   order_estimated_delivery_date  99441 non-null  datetime64[ns]\n",
      "dtypes: datetime64[ns](5), object(3)\n",
      "memory usage: 6.1+ MB\n"
     ]
    }
   ],
   "source": [
    "olist_orders_dataset.info()"
   ]
  },
  {
   "cell_type": "code",
   "execution_count": 27,
   "metadata": {
    "scrolled": true
   },
   "outputs": [
    {
     "name": "stdout",
     "output_type": "stream",
     "text": [
      "<class 'pandas.core.frame.DataFrame'>\n",
      "RangeIndex: 112650 entries, 0 to 112649\n",
      "Data columns (total 7 columns):\n",
      " #   Column               Non-Null Count   Dtype         \n",
      "---  ------               --------------   -----         \n",
      " 0   order_id             112650 non-null  object        \n",
      " 1   order_item_id        112650 non-null  int64         \n",
      " 2   product_id           112650 non-null  object        \n",
      " 3   seller_id            112650 non-null  object        \n",
      " 4   shipping_limit_date  112650 non-null  datetime64[ns]\n",
      " 5   price                112650 non-null  float64       \n",
      " 6   freight_value        112650 non-null  float64       \n",
      "dtypes: datetime64[ns](1), float64(2), int64(1), object(3)\n",
      "memory usage: 6.0+ MB\n"
     ]
    }
   ],
   "source": [
    "olist_order_items_dataset.info()"
   ]
  },
  {
   "cell_type": "code",
   "execution_count": 28,
   "metadata": {
    "scrolled": true
   },
   "outputs": [
    {
     "data": {
      "text/plain": [
       "customer_id                 object\n",
       "customer_unique_id          object\n",
       "customer_zip_code_prefix     int64\n",
       "customer_city               object\n",
       "customer_state              object\n",
       "dtype: object"
      ]
     },
     "execution_count": 28,
     "metadata": {},
     "output_type": "execute_result"
    }
   ],
   "source": [
    "olist_customers_dataset.dtypes"
   ]
  },
  {
   "cell_type": "code",
   "execution_count": 29,
   "metadata": {
    "scrolled": true
   },
   "outputs": [
    {
     "data": {
      "text/plain": [
       "order_id                                 object\n",
       "customer_id                              object\n",
       "order_status                             object\n",
       "order_purchase_timestamp         datetime64[ns]\n",
       "order_approved_at                datetime64[ns]\n",
       "order_delivered_carrier_date     datetime64[ns]\n",
       "order_delivered_customer_date    datetime64[ns]\n",
       "order_estimated_delivery_date    datetime64[ns]\n",
       "dtype: object"
      ]
     },
     "execution_count": 29,
     "metadata": {},
     "output_type": "execute_result"
    }
   ],
   "source": [
    "olist_orders_dataset.dtypes"
   ]
  },
  {
   "cell_type": "code",
   "execution_count": 31,
   "metadata": {
    "scrolled": true
   },
   "outputs": [
    {
     "data": {
      "text/plain": [
       "order_id                       object\n",
       "order_item_id                   int64\n",
       "product_id                     object\n",
       "seller_id                      object\n",
       "shipping_limit_date    datetime64[ns]\n",
       "price                         float64\n",
       "freight_value                 float64\n",
       "dtype: object"
      ]
     },
     "execution_count": 31,
     "metadata": {},
     "output_type": "execute_result"
    }
   ],
   "source": [
    "olist_order_items_dataset.dtypes"
   ]
  },
  {
   "cell_type": "code",
   "execution_count": 32,
   "metadata": {},
   "outputs": [
    {
     "data": {
      "text/plain": [
       "customer_id                 0\n",
       "customer_unique_id          0\n",
       "customer_zip_code_prefix    0\n",
       "customer_city               0\n",
       "customer_state              0\n",
       "dtype: int64"
      ]
     },
     "execution_count": 32,
     "metadata": {},
     "output_type": "execute_result"
    }
   ],
   "source": [
    "olist_customers_dataset.isnull().sum()"
   ]
  },
  {
   "cell_type": "code",
   "execution_count": 33,
   "metadata": {
    "scrolled": true
   },
   "outputs": [
    {
     "data": {
      "text/plain": [
       "order_id                            0\n",
       "customer_id                         0\n",
       "order_status                        0\n",
       "order_purchase_timestamp            0\n",
       "order_approved_at                 160\n",
       "order_delivered_carrier_date     1783\n",
       "order_delivered_customer_date    2965\n",
       "order_estimated_delivery_date       0\n",
       "dtype: int64"
      ]
     },
     "execution_count": 33,
     "metadata": {},
     "output_type": "execute_result"
    }
   ],
   "source": [
    "olist_orders_dataset.isnull().sum()"
   ]
  },
  {
   "cell_type": "code",
   "execution_count": 35,
   "metadata": {},
   "outputs": [
    {
     "data": {
      "text/plain": [
       "order_id               0\n",
       "order_item_id          0\n",
       "product_id             0\n",
       "seller_id              0\n",
       "shipping_limit_date    0\n",
       "price                  0\n",
       "freight_value          0\n",
       "dtype: int64"
      ]
     },
     "execution_count": 35,
     "metadata": {},
     "output_type": "execute_result"
    }
   ],
   "source": [
    "olist_order_items_dataset.isnull().sum()"
   ]
  },
  {
   "cell_type": "code",
   "execution_count": 14,
   "metadata": {},
   "outputs": [
    {
     "data": {
      "text/plain": [
       "96478"
      ]
     },
     "execution_count": 14,
     "metadata": {},
     "output_type": "execute_result"
    }
   ],
   "source": [
    "delivered_orders = olist_orders_dataset.query('order_status == \"delivered\"')\n",
    "\n",
    "delivered_orders['order_id'].nunique()"
   ]
  },
  {
   "cell_type": "markdown",
   "metadata": {},
   "source": [
    "В исследовании покупкой будем считать только те заказы, у которых статус \"delivered\" (доставлен пользователю), так как это указывает на фактическую доставку товара покупателю. Соответственно мы имеем 96478 покупок."
   ]
  },
  {
   "cell_type": "markdown",
   "metadata": {},
   "source": [
    "# 1. Сколько у нас пользователей, которые совершили покупку только один раз?"
   ]
  },
  {
   "cell_type": "code",
   "execution_count": 25,
   "metadata": {
    "scrolled": true
   },
   "outputs": [
    {
     "name": "stdout",
     "output_type": "stream",
     "text": [
      "Количество пользователей, которые совершили покупку только один раз: 90557\n"
     ]
    }
   ],
   "source": [
    "# Объединение датафреймов по столбцу order_id\n",
    "merged_df =  olist_customers_dataset.merge(olist_orders_dataset, on='customer_id')\n",
    "\n",
    "# Фильтрация заказов по статусу \"delivered\", группировка по уникальному идентификатору пользователя\n",
    "#и подсчет количества уникальных заказов этих пользователей\n",
    "order_counts = merged_df.query('order_status == \"delivered\"') \\\n",
    "    .groupby('customer_unique_id')['order_id'].nunique()\n",
    "\n",
    "# Отбор пользователей у которых только один заказ\n",
    "users_with_one_order = order_counts[order_counts == 1]\n",
    "\n",
    "# Подсчёт числа элементов в списке при помощи функции len\n",
    "count_users_with_one_order = len(users_with_one_order)\n",
    "\n",
    "print(\"Количество пользователей, которые совершили покупку только один раз:\", count_users_with_one_order)"
   ]
  },
  {
   "cell_type": "markdown",
   "metadata": {},
   "source": [
    "# 2. Сколько заказов в месяц в среднем не доставляется по разным причинам (вывести детализацию по причинам)?"
   ]
  },
  {
   "cell_type": "code",
   "execution_count": 87,
   "metadata": {},
   "outputs": [
    {
     "name": "stdout",
     "output_type": "stream",
     "text": [
      "Среднее количество не доставленных заказов в месяц: order_month    51.0\n",
      "dtype: float64\n",
      "Среднее количество не доставленных заказов в месяц по причиние 'canceled': order_month    26.0\n",
      "dtype: float64\n",
      "Среднее количество не доставленных заказов в месяц по причиние 'unavailable': order_month    29.0\n",
      "dtype: float64\n"
     ]
    }
   ],
   "source": [
    "# Создание колонки с месяцем\n",
    "olist_orders_dataset['order_month'] = olist_orders_dataset['order_purchase_timestamp'].dt.to_period('M')\n",
    "\n",
    "# Отбор заказов с недоставленным статусом\n",
    "not_delivery_orders = olist_orders_dataset.query('order_status == [\"unavailable\", \"canceled\"]')\n",
    "not_delivery_canceled_orders = olist_orders_dataset.query('order_status == \"canceled\"')\n",
    "not_delivery_unavailable_orders = olist_orders_dataset.query('order_status == \"unavailable\"')\n",
    "\n",
    "# Расчёт средного количества недоставленных заказов в месяц\n",
    "avg_not_delivery_orders = not_delivery_orders.groupby('order_month').agg({'order_month': 'count'}).mean().round(0)\n",
    "avg_not_delivery_canceled_orders = not_delivery_canceled_orders.groupby('order_month').agg({'order_month': 'count'}).mean().round(0)\n",
    "avg_not_delivery_unavailable_orders = not_delivery_unavailable_orders.groupby('order_month').agg({'order_month': 'count'}).mean().round(0)\n",
    "\n",
    "print(\"Среднее количество не доставленных заказов в месяц:\", avg_not_delivery_orders)\n",
    "print(\"Среднее количество не доставленных заказов в месяц по причиние 'canceled':\", avg_not_delivery_canceled_orders)\n",
    "print(\"Среднее количество не доставленных заказов в месяц по причиние 'unavailable':\", avg_not_delivery_unavailable_orders)"
   ]
  },
  {
   "cell_type": "markdown",
   "metadata": {},
   "source": [
    "# 3. По каждому товару определить, в какой день недели товар чаще всего покупается."
   ]
  },
  {
   "cell_type": "code",
   "execution_count": 12,
   "metadata": {
    "scrolled": true
   },
   "outputs": [
    {
     "data": {
      "text/html": [
       "<div>\n",
       "<style scoped>\n",
       "    .dataframe tbody tr th:only-of-type {\n",
       "        vertical-align: middle;\n",
       "    }\n",
       "\n",
       "    .dataframe tbody tr th {\n",
       "        vertical-align: top;\n",
       "    }\n",
       "\n",
       "    .dataframe thead th {\n",
       "        text-align: right;\n",
       "    }\n",
       "</style>\n",
       "<table border=\"1\" class=\"dataframe\">\n",
       "  <thead>\n",
       "    <tr style=\"text-align: right;\">\n",
       "      <th></th>\n",
       "      <th>product_id</th>\n",
       "      <th>order_day</th>\n",
       "      <th>order_count</th>\n",
       "    </tr>\n",
       "  </thead>\n",
       "  <tbody>\n",
       "    <tr>\n",
       "      <th>39785</th>\n",
       "      <td>aca2eb7d00ea1a7b8ebd4e68314663af</td>\n",
       "      <td>Monday</td>\n",
       "      <td>81</td>\n",
       "    </tr>\n",
       "    <tr>\n",
       "      <th>15366</th>\n",
       "      <td>422879e10f46682990de24d770e7f83d</td>\n",
       "      <td>Monday</td>\n",
       "      <td>79</td>\n",
       "    </tr>\n",
       "    <tr>\n",
       "      <th>35349</th>\n",
       "      <td>99a4788cb24856965c36a24e339b6058</td>\n",
       "      <td>Tuesday</td>\n",
       "      <td>75</td>\n",
       "    </tr>\n",
       "    <tr>\n",
       "      <th>35345</th>\n",
       "      <td>99a4788cb24856965c36a24e339b6058</td>\n",
       "      <td>Monday</td>\n",
       "      <td>74</td>\n",
       "    </tr>\n",
       "    <tr>\n",
       "      <th>35348</th>\n",
       "      <td>99a4788cb24856965c36a24e339b6058</td>\n",
       "      <td>Thursday</td>\n",
       "      <td>74</td>\n",
       "    </tr>\n",
       "    <tr>\n",
       "      <th>35344</th>\n",
       "      <td>99a4788cb24856965c36a24e339b6058</td>\n",
       "      <td>Friday</td>\n",
       "      <td>71</td>\n",
       "    </tr>\n",
       "    <tr>\n",
       "      <th>39790</th>\n",
       "      <td>aca2eb7d00ea1a7b8ebd4e68314663af</td>\n",
       "      <td>Wednesday</td>\n",
       "      <td>70</td>\n",
       "    </tr>\n",
       "    <tr>\n",
       "      <th>39786</th>\n",
       "      <td>aca2eb7d00ea1a7b8ebd4e68314663af</td>\n",
       "      <td>Saturday</td>\n",
       "      <td>69</td>\n",
       "    </tr>\n",
       "    <tr>\n",
       "      <th>15370</th>\n",
       "      <td>422879e10f46682990de24d770e7f83d</td>\n",
       "      <td>Tuesday</td>\n",
       "      <td>67</td>\n",
       "    </tr>\n",
       "    <tr>\n",
       "      <th>39789</th>\n",
       "      <td>aca2eb7d00ea1a7b8ebd4e68314663af</td>\n",
       "      <td>Tuesday</td>\n",
       "      <td>67</td>\n",
       "    </tr>\n",
       "  </tbody>\n",
       "</table>\n",
       "</div>"
      ],
      "text/plain": [
       "                             product_id  order_day  order_count\n",
       "39785  aca2eb7d00ea1a7b8ebd4e68314663af     Monday           81\n",
       "15366  422879e10f46682990de24d770e7f83d     Monday           79\n",
       "35349  99a4788cb24856965c36a24e339b6058    Tuesday           75\n",
       "35345  99a4788cb24856965c36a24e339b6058     Monday           74\n",
       "35348  99a4788cb24856965c36a24e339b6058   Thursday           74\n",
       "35344  99a4788cb24856965c36a24e339b6058     Friday           71\n",
       "39790  aca2eb7d00ea1a7b8ebd4e68314663af  Wednesday           70\n",
       "39786  aca2eb7d00ea1a7b8ebd4e68314663af   Saturday           69\n",
       "15370  422879e10f46682990de24d770e7f83d    Tuesday           67\n",
       "39789  aca2eb7d00ea1a7b8ebd4e68314663af    Tuesday           67"
      ]
     },
     "execution_count": 12,
     "metadata": {},
     "output_type": "execute_result"
    }
   ],
   "source": [
    "# Объединение датафреймов по столбцу order_id\n",
    "olist_orders_items_dataset = olist_orders_dataset.merge(olist_order_items_dataset, on='order_id')\n",
    "\n",
    "# Создание столбца с днём\n",
    "olist_orders_items_dataset['order_day'] = olist_orders_dataset['order_purchase_timestamp'].dt.day_name()\n",
    "\n",
    "# Группировка по id товара, дню недели и подсчёт количества покупок\n",
    "orders_items_days = olist_orders_items_dataset.groupby(['product_id', 'order_day']) \\\n",
    "    .size().reset_index(name='order_count')\n",
    "\n",
    "# Отбор наиболее частого дня недели для каждого товара\n",
    "most_order_day = orders_items_days.groupby(['product_id', 'order_day'])['order_count'].idxmax()\n",
    "result = orders_items_days.loc[most_order_day].sort_values('order_count', ascending=False)\n",
    "\n",
    "result.head(10)"
   ]
  },
  {
   "cell_type": "markdown",
   "metadata": {},
   "source": [
    "# 4. Сколько у каждого из пользователей в среднем покупок в неделю (по месяцам)?"
   ]
  },
  {
   "cell_type": "code",
   "execution_count": 15,
   "metadata": {},
   "outputs": [
    {
     "data": {
      "text/html": [
       "<div>\n",
       "<style scoped>\n",
       "    .dataframe tbody tr th:only-of-type {\n",
       "        vertical-align: middle;\n",
       "    }\n",
       "\n",
       "    .dataframe tbody tr th {\n",
       "        vertical-align: top;\n",
       "    }\n",
       "\n",
       "    .dataframe thead th {\n",
       "        text-align: right;\n",
       "    }\n",
       "</style>\n",
       "<table border=\"1\" class=\"dataframe\">\n",
       "  <thead>\n",
       "    <tr style=\"text-align: right;\">\n",
       "      <th></th>\n",
       "      <th>customer_id</th>\n",
       "      <th>month</th>\n",
       "      <th>avg_orders_per_week</th>\n",
       "    </tr>\n",
       "  </thead>\n",
       "  <tbody>\n",
       "    <tr>\n",
       "      <th>0</th>\n",
       "      <td>00012a2ce6f8dcda20d059ce98491703</td>\n",
       "      <td>2017-11</td>\n",
       "      <td>0.2</td>\n",
       "    </tr>\n",
       "    <tr>\n",
       "      <th>1</th>\n",
       "      <td>000f17e290c26b28549908a04cfe36c1</td>\n",
       "      <td>2017-11</td>\n",
       "      <td>0.2</td>\n",
       "    </tr>\n",
       "    <tr>\n",
       "      <th>2</th>\n",
       "      <td>002937abdae13680e17dccd3868b4825</td>\n",
       "      <td>2017-11</td>\n",
       "      <td>0.2</td>\n",
       "    </tr>\n",
       "    <tr>\n",
       "      <th>3</th>\n",
       "      <td>002c625393dfa194828b462a6ef8cb0b</td>\n",
       "      <td>2017-11</td>\n",
       "      <td>0.2</td>\n",
       "    </tr>\n",
       "    <tr>\n",
       "      <th>4</th>\n",
       "      <td>002fb8fc5ce64f8422fa2fe79986c783</td>\n",
       "      <td>2017-11</td>\n",
       "      <td>0.2</td>\n",
       "    </tr>\n",
       "    <tr>\n",
       "      <th>...</th>\n",
       "      <td>...</td>\n",
       "      <td>...</td>\n",
       "      <td>...</td>\n",
       "    </tr>\n",
       "    <tr>\n",
       "      <th>96473</th>\n",
       "      <td>fd997caf29864e0b5e0d328a2d163e3f</td>\n",
       "      <td>2016-10</td>\n",
       "      <td>0.5</td>\n",
       "    </tr>\n",
       "    <tr>\n",
       "      <th>96474</th>\n",
       "      <td>ff1a56726b7ea149c7423865609cc0c8</td>\n",
       "      <td>2016-10</td>\n",
       "      <td>0.5</td>\n",
       "    </tr>\n",
       "    <tr>\n",
       "      <th>96475</th>\n",
       "      <td>ff4dfb2525a749384a0e31d68625443a</td>\n",
       "      <td>2016-10</td>\n",
       "      <td>0.5</td>\n",
       "    </tr>\n",
       "    <tr>\n",
       "      <th>96476</th>\n",
       "      <td>0975c3cf2e418ebfa5d1191a2dffd59d</td>\n",
       "      <td>2016-12</td>\n",
       "      <td>1.0</td>\n",
       "    </tr>\n",
       "    <tr>\n",
       "      <th>96477</th>\n",
       "      <td>86dc2ffce2dfff336de2f386a786e574</td>\n",
       "      <td>2016-09</td>\n",
       "      <td>1.0</td>\n",
       "    </tr>\n",
       "  </tbody>\n",
       "</table>\n",
       "<p>96478 rows × 3 columns</p>\n",
       "</div>"
      ],
      "text/plain": [
       "                            customer_id    month  avg_orders_per_week\n",
       "0      00012a2ce6f8dcda20d059ce98491703  2017-11                  0.2\n",
       "1      000f17e290c26b28549908a04cfe36c1  2017-11                  0.2\n",
       "2      002937abdae13680e17dccd3868b4825  2017-11                  0.2\n",
       "3      002c625393dfa194828b462a6ef8cb0b  2017-11                  0.2\n",
       "4      002fb8fc5ce64f8422fa2fe79986c783  2017-11                  0.2\n",
       "...                                 ...      ...                  ...\n",
       "96473  fd997caf29864e0b5e0d328a2d163e3f  2016-10                  0.5\n",
       "96474  ff1a56726b7ea149c7423865609cc0c8  2016-10                  0.5\n",
       "96475  ff4dfb2525a749384a0e31d68625443a  2016-10                  0.5\n",
       "96476  0975c3cf2e418ebfa5d1191a2dffd59d  2016-12                  1.0\n",
       "96477  86dc2ffce2dfff336de2f386a786e574  2016-09                  1.0\n",
       "\n",
       "[96478 rows x 3 columns]"
      ]
     },
     "execution_count": 15,
     "metadata": {},
     "output_type": "execute_result"
    }
   ],
   "source": [
    "# Фильтрация заказов по статусу \"delivered\"\n",
    "delivered_orders = olist_orders_dataset.query('order_status == \"delivered\"')\n",
    "\n",
    "# Объединение датафреймов по столбцу customer_id\n",
    "merged_df =  olist_customers_dataset.merge(delivered_orders, on='customer_id')\n",
    "\n",
    "# Создание колонки с неделей и месяцем\n",
    "merged_df['week_period'] = merged_df['order_purchase_timestamp'].dt.to_period('W')\n",
    "merged_df['month'] = merged_df['order_purchase_timestamp'].dt.to_period('M')\n",
    "\n",
    "# Расчёт количества недель в каждом месяце\n",
    "week_per_month = merged_df.groupby('month', as_index=False)['week_period'].nunique()\n",
    "\n",
    "# Группировка данных по id клиента, неделе, месяцу и расчёт количества заказов для каждой недели\n",
    "orders_per_week = merged_df.groupby(['customer_id', 'week_period', 'month'], as_index=False) \\\n",
    "    .agg({'order_id': 'count'})\n",
    "\n",
    "# Объединение данных с количеством недель в каждом месяце\n",
    "orders_per_week = orders_per_week.merge(week_per_month, on='month')\n",
    "\n",
    "# Расчёт среднего количества заказов в месяц путём произведения количества заказов и недель в каждом месяце\n",
    "orders_per_week['avg_orders_per_week'] = orders_per_week['order_id'] / orders_per_week['week_period_y']\n",
    "\n",
    "orders_per_week[['customer_id', 'month', 'avg_orders_per_week']]"
   ]
  },
  {
   "cell_type": "markdown",
   "metadata": {},
   "source": [
    "# 5. Когортный анализ пользователей. Период с января по декабрь. Когорта с самым высоким retention на 3й месяц. "
   ]
  },
  {
   "cell_type": "code",
   "execution_count": 36,
   "metadata": {},
   "outputs": [],
   "source": [
    "# Фильтрация заказов по статусу \"delivered\"\n",
    "delivered_orders = olist_orders_dataset.query('order_status == \"delivered\"')\n",
    "\n",
    "# Объединение датафреймов по столбцу customer_id\n",
    "merged_df =  olist_customers_dataset.merge(delivered_orders, on='customer_id')\n",
    "\n",
    "# Создание столбца c месяцем первой покупки для каждого клиента\n",
    "merged_df['first_purchase_month'] = merged_df.groupby('customer_unique_id') \\\n",
    "    ['order_purchase_timestamp'].transform('min').dt.to_period('M')\n",
    "\n",
    "# Фильтрация данных по месяцу первой покупки в период с января по декабрь 2017 года\n",
    "merged_df = merged_df.loc[merged_df['first_purchase_month'].between('2017-01', '2017-12')]\n",
    "merged_df = merged_df.loc[merged_df['order_purchase_timestamp'].between('2017-01', '2017-12')]\n",
    "\n",
    "# Добавление столбца с месяцем покупки\n",
    "merged_df['purchase_month'] = merged_df['order_purchase_timestamp'].dt.to_period('M')\n",
    "\n",
    "# Расчет количества уникальных клиентов по когортам и месяцам\n",
    "cohort_df = merged_df.groupby(['first_purchase_month', 'purchase_month'])['customer_unique_id'].nunique().reset_index()\n",
    "\n",
    "# Добавление столбца с количеством месяцев между первой и последней покупкой\n",
    "cohort_df['retention_month'] = (cohort_df['purchase_month'] - cohort_df['first_purchase_month']).apply(lambda x: x.n)\n",
    "\n",
    "# Создание таблицы retention с помощью pivot_table\n",
    "retention = cohort_df.pivot_table(index='first_purchase_month', columns='retention_month', values='customer_unique_id')\n",
    "\n",
    "# Выбираем первый столбец в таблице\n",
    "cohort_sizes = retention.iloc[:, 0]\n",
    "\n",
    "# Деление значений из таблицы retention_table на cohort_sizes для получения доли\n",
    "retention_pct = retention.div(cohort_sizes, axis=0) * 100"
   ]
  },
  {
   "cell_type": "code",
   "execution_count": 40,
   "metadata": {
    "scrolled": false
   },
   "outputs": [
    {
     "data": {
      "image/png": "[encoded data removed]",
      "text/plain": [
       "<Figure size 864x576 with 1 Axes>"
      ]
     },
     "metadata": {
      "needs_background": "light"
     },
     "output_type": "display_data"
    }
   ],
   "source": [
    "# Визуализация таблицы с помощью тепловой карты\n",
    "plt.figure(figsize=(12, 8))\n",
    "sns.heatmap(retention_pct, annot=True, fmt='.2f', cmap='YlGnBu', cbar=False)\n",
    "plt.title('Retention Table')\n",
    "plt.xlabel('Retention Month')\n",
    "plt.ylabel('First Purchase Month')\n",
    "plt.show()"
   ]
  },
  {
   "cell_type": "markdown",
   "metadata": {},
   "source": [
    "Когорта с самым высоким retention на 3-й месяц: это те клиенты, которые совершили свою первую покупку в июне"
   ]
  },
  {
   "cell_type": "markdown",
   "metadata": {},
   "source": [
    "# 6. RFM-сегментацию пользователей"
   ]
  },
  {
   "cell_type": "code",
   "execution_count": 7,
   "metadata": {},
   "outputs": [],
   "source": [
    "# Объединение датафреймов по столбцу customer_id, а затем по order_id\n",
    "merged_df =  olist_customers_dataset.merge(olist_orders_dataset, on='customer_id')\n",
    "merged_df =  merged_df.merge(olist_order_items_dataset, on='order_id')"
   ]
  },
  {
   "cell_type": "code",
   "execution_count": 8,
   "metadata": {},
   "outputs": [
    {
     "name": "stdout",
     "output_type": "stream",
     "text": [
      "Orders from 2016-10-11 13:46:32 to 2018-10-17 13:22:46\n"
     ]
    }
   ],
   "source": [
    "# Определяем временные рамки данных\n",
    "print('Orders from {} to {}'.format(merged_df['order_delivered_customer_date'].min(),\n",
    "                                    merged_df['order_delivered_customer_date'].max()))"
   ]
  },
  {
   "cell_type": "code",
   "execution_count": 9,
   "metadata": {},
   "outputs": [],
   "source": [
    "# Рассчитываем общую стоимость каждой строки\n",
    "merged_df['total_price'] = merged_df['order_item_id'] * merged_df['price']"
   ]
  },
  {
   "cell_type": "code",
   "execution_count": 10,
   "metadata": {},
   "outputs": [
    {
     "data": {
      "text/plain": [
       "8272b63d03f5f79c56e9e4120aec44ef    21\n",
       "ab14fdcfbe524636d65ee38360e22ce8    20\n",
       "1b15974a0141d54e36626dca3fdc731a    20\n",
       "9ef13efd6949e4573a18964dd1bbe7f5    15\n",
       "428a2f660dc84138d969ccd69a0ab6d5    15\n",
       "Name: order_id, dtype: int64"
      ]
     },
     "execution_count": 10,
     "metadata": {},
     "output_type": "execute_result"
    }
   ],
   "source": [
    "merged_df['order_id'].value_counts().head()"
   ]
  },
  {
   "cell_type": "code",
   "execution_count": 11,
   "metadata": {},
   "outputs": [
    {
     "data": {
      "text/html": [
       "<div>\n",
       "<style scoped>\n",
       "    .dataframe tbody tr th:only-of-type {\n",
       "        vertical-align: middle;\n",
       "    }\n",
       "\n",
       "    .dataframe tbody tr th {\n",
       "        vertical-align: top;\n",
       "    }\n",
       "\n",
       "    .dataframe thead th {\n",
       "        text-align: right;\n",
       "    }\n",
       "</style>\n",
       "<table border=\"1\" class=\"dataframe\">\n",
       "  <thead>\n",
       "    <tr style=\"text-align: right;\">\n",
       "      <th></th>\n",
       "      <th>order_id</th>\n",
       "      <th>order_delivered_customer_date</th>\n",
       "      <th>customer_unique_id</th>\n",
       "      <th>total_price</th>\n",
       "    </tr>\n",
       "  </thead>\n",
       "  <tbody>\n",
       "    <tr>\n",
       "      <th>0</th>\n",
       "      <td>00010242fe8c5a6d1ba2dd792cb16214</td>\n",
       "      <td>2017-09-20 23:43:48</td>\n",
       "      <td>871766c5855e863f6eccc05f988b23cb</td>\n",
       "      <td>58.90</td>\n",
       "    </tr>\n",
       "    <tr>\n",
       "      <th>1</th>\n",
       "      <td>00018f77f2f0320c557190d7a144bdd3</td>\n",
       "      <td>2017-05-12 16:04:24</td>\n",
       "      <td>eb28e67c4c0b83846050ddfb8a35d051</td>\n",
       "      <td>239.90</td>\n",
       "    </tr>\n",
       "    <tr>\n",
       "      <th>2</th>\n",
       "      <td>000229ec398224ef6ca0657da4fc703e</td>\n",
       "      <td>2018-01-22 13:19:16</td>\n",
       "      <td>3818d81c6709e39d06b2738a8d3a2474</td>\n",
       "      <td>199.00</td>\n",
       "    </tr>\n",
       "    <tr>\n",
       "      <th>3</th>\n",
       "      <td>00024acbcdf0a6daa1e931b038114c75</td>\n",
       "      <td>2018-08-14 13:32:39</td>\n",
       "      <td>af861d436cfc08b2c2ddefd0ba074622</td>\n",
       "      <td>12.99</td>\n",
       "    </tr>\n",
       "    <tr>\n",
       "      <th>4</th>\n",
       "      <td>00042b26cf59d7ce69dfabb4e55b4fd9</td>\n",
       "      <td>2017-03-01 16:42:31</td>\n",
       "      <td>64b576fb70d441e8f1b2d7d446e483c5</td>\n",
       "      <td>199.90</td>\n",
       "    </tr>\n",
       "  </tbody>\n",
       "</table>\n",
       "</div>"
      ],
      "text/plain": [
       "                           order_id order_delivered_customer_date  \\\n",
       "0  00010242fe8c5a6d1ba2dd792cb16214           2017-09-20 23:43:48   \n",
       "1  00018f77f2f0320c557190d7a144bdd3           2017-05-12 16:04:24   \n",
       "2  000229ec398224ef6ca0657da4fc703e           2018-01-22 13:19:16   \n",
       "3  00024acbcdf0a6daa1e931b038114c75           2018-08-14 13:32:39   \n",
       "4  00042b26cf59d7ce69dfabb4e55b4fd9           2017-03-01 16:42:31   \n",
       "\n",
       "                 customer_unique_id  total_price  \n",
       "0  871766c5855e863f6eccc05f988b23cb        58.90  \n",
       "1  eb28e67c4c0b83846050ddfb8a35d051       239.90  \n",
       "2  3818d81c6709e39d06b2738a8d3a2474       199.00  \n",
       "3  af861d436cfc08b2c2ddefd0ba074622        12.99  \n",
       "4  64b576fb70d441e8f1b2d7d446e483c5       199.90  "
      ]
     },
     "execution_count": 11,
     "metadata": {},
     "output_type": "execute_result"
    }
   ],
   "source": [
    "# Создаём датафрейм orders, который агрегиррует стоимость по каждому заказу\n",
    "orders = merged_df.groupby(['order_id', 'order_delivered_customer_date', 'customer_unique_id']) \\\n",
    "    .agg({'total_price': lambda x: x.sum()}).reset_index()\n",
    "orders.head()"
   ]
  },
  {
   "cell_type": "code",
   "execution_count": 12,
   "metadata": {},
   "outputs": [],
   "source": [
    "# Фильтрация данных по периоду с января по декабрь 2017 года\n",
    "orders = orders.loc[orders['order_delivered_customer_date'].between('2017-01', '2017-12')]"
   ]
  },
  {
   "cell_type": "code",
   "execution_count": 13,
   "metadata": {},
   "outputs": [
    {
     "data": {
      "text/plain": [
       "Timestamp('2017-12-01 23:59:03')"
      ]
     },
     "execution_count": 13,
     "metadata": {},
     "output_type": "execute_result"
    }
   ],
   "source": [
    "# Для расчета оценки Recency установим переменную NOW обозначающая следующий день после последней покупки\n",
    "NOW = orders['order_delivered_customer_date'].max() + timedelta(days=1)\n",
    "NOW"
   ]
  },
  {
   "cell_type": "code",
   "execution_count": 14,
   "metadata": {},
   "outputs": [],
   "source": [
    "# Установим переменную период в 365 дней, так как будем изучать данные за год\n",
    "period = 365"
   ]
  },
  {
   "cell_type": "code",
   "execution_count": 15,
   "metadata": {},
   "outputs": [],
   "source": [
    "# Добавим столбец с разницей дней между \"сейчас\" и покупкой \n",
    "orders['days_since_order'] = orders['order_delivered_customer_date'].apply(lambda x: (NOW - x).days)"
   ]
  },
  {
   "cell_type": "code",
   "execution_count": 16,
   "metadata": {},
   "outputs": [
    {
     "data": {
      "text/html": [
       "<div>\n",
       "<style scoped>\n",
       "    .dataframe tbody tr th:only-of-type {\n",
       "        vertical-align: middle;\n",
       "    }\n",
       "\n",
       "    .dataframe tbody tr th {\n",
       "        vertical-align: top;\n",
       "    }\n",
       "\n",
       "    .dataframe thead th {\n",
       "        text-align: right;\n",
       "    }\n",
       "</style>\n",
       "<table border=\"1\" class=\"dataframe\">\n",
       "  <thead>\n",
       "    <tr style=\"text-align: right;\">\n",
       "      <th></th>\n",
       "      <th>customer_unique_id</th>\n",
       "      <th>recency</th>\n",
       "      <th>frequency</th>\n",
       "    </tr>\n",
       "  </thead>\n",
       "  <tbody>\n",
       "    <tr>\n",
       "      <th>0</th>\n",
       "      <td>0000f46a3911fa3c0805444483337064</td>\n",
       "      <td>240</td>\n",
       "      <td>1</td>\n",
       "    </tr>\n",
       "    <tr>\n",
       "      <th>1</th>\n",
       "      <td>0000f6ccb0745a6a4b88665a16c9f078</td>\n",
       "      <td>30</td>\n",
       "      <td>1</td>\n",
       "    </tr>\n",
       "    <tr>\n",
       "      <th>2</th>\n",
       "      <td>0004aac84e0df4da2b147fca70cf8255</td>\n",
       "      <td>4</td>\n",
       "      <td>1</td>\n",
       "    </tr>\n",
       "    <tr>\n",
       "      <th>3</th>\n",
       "      <td>0005e1862207bf6ccc02e4228effd9a0</td>\n",
       "      <td>267</td>\n",
       "      <td>1</td>\n",
       "    </tr>\n",
       "    <tr>\n",
       "      <th>4</th>\n",
       "      <td>0006fdc98a402fceb4eb0ee528f6a8d4</td>\n",
       "      <td>120</td>\n",
       "      <td>1</td>\n",
       "    </tr>\n",
       "  </tbody>\n",
       "</table>\n",
       "</div>"
      ],
      "text/plain": [
       "                 customer_unique_id  recency  frequency\n",
       "0  0000f46a3911fa3c0805444483337064      240          1\n",
       "1  0000f6ccb0745a6a4b88665a16c9f078       30          1\n",
       "2  0004aac84e0df4da2b147fca70cf8255        4          1\n",
       "3  0005e1862207bf6ccc02e4228effd9a0      267          1\n",
       "4  0006fdc98a402fceb4eb0ee528f6a8d4      120          1"
      ]
     },
     "execution_count": 16,
     "metadata": {},
     "output_type": "execute_result"
    }
   ],
   "source": [
    "# Создадим новый датафрейм и расчитаем кол-во дней с последнего заказа (recency)\n",
    "#и общее количество заказов за последний период (frequency)\n",
    "aggr = {\n",
    "    'days_since_order': lambda x: x.min(),  \n",
    "    'order_delivered_customer_date': lambda x: len([d for d in x if d >= NOW - timedelta(days=period)]),\n",
    "}\n",
    "rfm = orders.groupby('customer_unique_id').agg(aggr).reset_index()\n",
    "rfm.rename(columns={'days_since_order': 'recency', 'order_delivered_customer_date': 'frequency'}, inplace=True)\n",
    "rfm.head()"
   ]
  },
  {
   "cell_type": "code",
   "execution_count": 17,
   "metadata": {
    "scrolled": true
   },
   "outputs": [
    {
     "data": {
      "text/html": [
       "<div>\n",
       "<style scoped>\n",
       "    .dataframe tbody tr th:only-of-type {\n",
       "        vertical-align: middle;\n",
       "    }\n",
       "\n",
       "    .dataframe tbody tr th {\n",
       "        vertical-align: top;\n",
       "    }\n",
       "\n",
       "    .dataframe thead th {\n",
       "        text-align: right;\n",
       "    }\n",
       "</style>\n",
       "<table border=\"1\" class=\"dataframe\">\n",
       "  <thead>\n",
       "    <tr style=\"text-align: right;\">\n",
       "      <th></th>\n",
       "      <th>customer_unique_id</th>\n",
       "      <th>recency</th>\n",
       "      <th>frequency</th>\n",
       "      <th>monetary</th>\n",
       "    </tr>\n",
       "  </thead>\n",
       "  <tbody>\n",
       "    <tr>\n",
       "      <th>0</th>\n",
       "      <td>0000f46a3911fa3c0805444483337064</td>\n",
       "      <td>240</td>\n",
       "      <td>1</td>\n",
       "      <td>69.00</td>\n",
       "    </tr>\n",
       "    <tr>\n",
       "      <th>1</th>\n",
       "      <td>0000f6ccb0745a6a4b88665a16c9f078</td>\n",
       "      <td>30</td>\n",
       "      <td>1</td>\n",
       "      <td>25.99</td>\n",
       "    </tr>\n",
       "    <tr>\n",
       "      <th>2</th>\n",
       "      <td>0004aac84e0df4da2b147fca70cf8255</td>\n",
       "      <td>4</td>\n",
       "      <td>1</td>\n",
       "      <td>180.00</td>\n",
       "    </tr>\n",
       "    <tr>\n",
       "      <th>3</th>\n",
       "      <td>0005e1862207bf6ccc02e4228effd9a0</td>\n",
       "      <td>267</td>\n",
       "      <td>1</td>\n",
       "      <td>135.00</td>\n",
       "    </tr>\n",
       "    <tr>\n",
       "      <th>4</th>\n",
       "      <td>0006fdc98a402fceb4eb0ee528f6a8d4</td>\n",
       "      <td>120</td>\n",
       "      <td>1</td>\n",
       "      <td>13.90</td>\n",
       "    </tr>\n",
       "  </tbody>\n",
       "</table>\n",
       "</div>"
      ],
      "text/plain": [
       "                 customer_unique_id  recency  frequency  monetary\n",
       "0  0000f46a3911fa3c0805444483337064      240          1     69.00\n",
       "1  0000f6ccb0745a6a4b88665a16c9f078       30          1     25.99\n",
       "2  0004aac84e0df4da2b147fca70cf8255        4          1    180.00\n",
       "3  0005e1862207bf6ccc02e4228effd9a0      267          1    135.00\n",
       "4  0006fdc98a402fceb4eb0ee528f6a8d4      120          1     13.90"
      ]
     },
     "execution_count": 17,
     "metadata": {},
     "output_type": "execute_result"
    }
   ],
   "source": [
    "# Добавим сумму продаж по клиенту за период\n",
    "#отфильтруем клиентов по значению х, оставим только те строки, где значение даты покупки более или равно последнему периоду\n",
    "#вычислим сумму значений по каждому заказу после фильтрации\n",
    "rfm['monetary'] = rfm['customer_unique_id'].apply(lambda x: orders[(orders['customer_unique_id'] == x) & \\\n",
    "                                                           (orders['order_delivered_customer_date'] >= NOW - timedelta(days=period))]\\\n",
    "                                                           ['total_price'].sum())\n",
    "rfm.head()"
   ]
  },
  {
   "cell_type": "markdown",
   "metadata": {},
   "source": [
    " "
   ]
  },
  {
   "cell_type": "markdown",
   "metadata": {},
   "source": [
    "Расчёт оценки R, F, M"
   ]
  },
  {
   "cell_type": "code",
   "execution_count": 31,
   "metadata": {
    "scrolled": true
   },
   "outputs": [
    {
     "data": {
      "text/plain": [
       "{'recency': {0.25: 56.0, 0.5: 119.0, 0.75: 192.0},\n",
       " 'frequency': {0.25: 1.0, 0.5: 1.0, 0.75: 1.0},\n",
       " 'monetary': {0.25: 48.9, 0.5: 89.9, 0.75: 167.0}}"
      ]
     },
     "execution_count": 31,
     "metadata": {},
     "output_type": "execute_result"
    }
   ],
   "source": [
    "# Создадим словарь quintiles, который содержит квантили (25%, 50%, 75%) для каждого из трех столбцов\n",
    "quintiles = rfm[['recency', 'frequency', 'monetary']].quantile([.25, .5, .75]).to_dict()\n",
    "quintiles"
   ]
  },
  {
   "cell_type": "code",
   "execution_count": 19,
   "metadata": {},
   "outputs": [],
   "source": [
    "# Создадим функцию для присвоения рангов от 1 до 3 на основании словаря quintiles\n",
    "\n",
    "def r_score(x):\n",
    "    if x <= quintiles['recency'][.25]:\n",
    "        return 3\n",
    "    elif x <= quintiles['recency'][.5]:\n",
    "        return 2\n",
    "    else:\n",
    "        return 1\n",
    "\n",
    "def fm_score(x, c):\n",
    "    if x <= quintiles[c][.25]:\n",
    "        return 3\n",
    "    elif x <= quintiles[c][.5]:\n",
    "        return 2\n",
    "    else:\n",
    "        return 1"
   ]
  },
  {
   "cell_type": "code",
   "execution_count": 20,
   "metadata": {},
   "outputs": [],
   "source": [
    "# Добавим столбцы с оценками с датафрейм при помощи функции\n",
    "rfm['R'] = rfm['recency'].apply(lambda x: r_score(x))\n",
    "rfm['F'] = rfm['frequency'].apply(lambda x: fm_score(x, 'frequency'))\n",
    "rfm['M'] = rfm['monetary'].apply(lambda x: fm_score(x, 'monetary'))"
   ]
  },
  {
   "cell_type": "code",
   "execution_count": 21,
   "metadata": {},
   "outputs": [
    {
     "data": {
      "text/html": [
       "<div>\n",
       "<style scoped>\n",
       "    .dataframe tbody tr th:only-of-type {\n",
       "        vertical-align: middle;\n",
       "    }\n",
       "\n",
       "    .dataframe tbody tr th {\n",
       "        vertical-align: top;\n",
       "    }\n",
       "\n",
       "    .dataframe thead th {\n",
       "        text-align: right;\n",
       "    }\n",
       "</style>\n",
       "<table border=\"1\" class=\"dataframe\">\n",
       "  <thead>\n",
       "    <tr style=\"text-align: right;\">\n",
       "      <th></th>\n",
       "      <th>customer_unique_id</th>\n",
       "      <th>recency</th>\n",
       "      <th>frequency</th>\n",
       "      <th>monetary</th>\n",
       "      <th>R</th>\n",
       "      <th>F</th>\n",
       "      <th>M</th>\n",
       "      <th>RFM_score</th>\n",
       "    </tr>\n",
       "  </thead>\n",
       "  <tbody>\n",
       "    <tr>\n",
       "      <th>0</th>\n",
       "      <td>0000f46a3911fa3c0805444483337064</td>\n",
       "      <td>240</td>\n",
       "      <td>1</td>\n",
       "      <td>69.00</td>\n",
       "      <td>1</td>\n",
       "      <td>3</td>\n",
       "      <td>2</td>\n",
       "      <td>132</td>\n",
       "    </tr>\n",
       "    <tr>\n",
       "      <th>1</th>\n",
       "      <td>0000f6ccb0745a6a4b88665a16c9f078</td>\n",
       "      <td>30</td>\n",
       "      <td>1</td>\n",
       "      <td>25.99</td>\n",
       "      <td>3</td>\n",
       "      <td>3</td>\n",
       "      <td>3</td>\n",
       "      <td>333</td>\n",
       "    </tr>\n",
       "    <tr>\n",
       "      <th>2</th>\n",
       "      <td>0004aac84e0df4da2b147fca70cf8255</td>\n",
       "      <td>4</td>\n",
       "      <td>1</td>\n",
       "      <td>180.00</td>\n",
       "      <td>3</td>\n",
       "      <td>3</td>\n",
       "      <td>1</td>\n",
       "      <td>331</td>\n",
       "    </tr>\n",
       "    <tr>\n",
       "      <th>3</th>\n",
       "      <td>0005e1862207bf6ccc02e4228effd9a0</td>\n",
       "      <td>267</td>\n",
       "      <td>1</td>\n",
       "      <td>135.00</td>\n",
       "      <td>1</td>\n",
       "      <td>3</td>\n",
       "      <td>1</td>\n",
       "      <td>131</td>\n",
       "    </tr>\n",
       "    <tr>\n",
       "      <th>4</th>\n",
       "      <td>0006fdc98a402fceb4eb0ee528f6a8d4</td>\n",
       "      <td>120</td>\n",
       "      <td>1</td>\n",
       "      <td>13.90</td>\n",
       "      <td>1</td>\n",
       "      <td>3</td>\n",
       "      <td>3</td>\n",
       "      <td>133</td>\n",
       "    </tr>\n",
       "  </tbody>\n",
       "</table>\n",
       "</div>"
      ],
      "text/plain": [
       "                 customer_unique_id  recency  frequency  monetary  R  F  M  \\\n",
       "0  0000f46a3911fa3c0805444483337064      240          1     69.00  1  3  2   \n",
       "1  0000f6ccb0745a6a4b88665a16c9f078       30          1     25.99  3  3  3   \n",
       "2  0004aac84e0df4da2b147fca70cf8255        4          1    180.00  3  3  1   \n",
       "3  0005e1862207bf6ccc02e4228effd9a0      267          1    135.00  1  3  1   \n",
       "4  0006fdc98a402fceb4eb0ee528f6a8d4      120          1     13.90  1  3  3   \n",
       "\n",
       "  RFM_score  \n",
       "0       132  \n",
       "1       333  \n",
       "2       331  \n",
       "3       131  \n",
       "4       133  "
      ]
     },
     "execution_count": 21,
     "metadata": {},
     "output_type": "execute_result"
    }
   ],
   "source": [
    "# Создаём RFM-сегменты, при помощи метода .map(str) преобразуем в строковый формат\n",
    "rfm['RFM_score'] = rfm['R'].map(str) + rfm['F'].map(str) + rfm['M'].map(str)\n",
    "rfm.head()"
   ]
  },
  {
   "cell_type": "code",
   "execution_count": 26,
   "metadata": {},
   "outputs": [
    {
     "data": {
      "text/html": [
       "<div>\n",
       "<style scoped>\n",
       "    .dataframe tbody tr th:only-of-type {\n",
       "        vertical-align: middle;\n",
       "    }\n",
       "\n",
       "    .dataframe tbody tr th {\n",
       "        vertical-align: top;\n",
       "    }\n",
       "\n",
       "    .dataframe thead th {\n",
       "        text-align: right;\n",
       "    }\n",
       "</style>\n",
       "<table border=\"1\" class=\"dataframe\">\n",
       "  <thead>\n",
       "    <tr style=\"text-align: right;\">\n",
       "      <th></th>\n",
       "      <th>customer_unique_id</th>\n",
       "      <th>recency</th>\n",
       "      <th>frequency</th>\n",
       "      <th>monetary</th>\n",
       "      <th>R</th>\n",
       "      <th>F</th>\n",
       "      <th>M</th>\n",
       "      <th>RFM_score</th>\n",
       "      <th>segment</th>\n",
       "    </tr>\n",
       "  </thead>\n",
       "  <tbody>\n",
       "    <tr>\n",
       "      <th>0</th>\n",
       "      <td>0000f46a3911fa3c0805444483337064</td>\n",
       "      <td>240</td>\n",
       "      <td>1</td>\n",
       "      <td>69.00</td>\n",
       "      <td>1</td>\n",
       "      <td>3</td>\n",
       "      <td>2</td>\n",
       "      <td>132</td>\n",
       "      <td>Churning Good Persistent</td>\n",
       "    </tr>\n",
       "    <tr>\n",
       "      <th>1</th>\n",
       "      <td>0000f6ccb0745a6a4b88665a16c9f078</td>\n",
       "      <td>30</td>\n",
       "      <td>1</td>\n",
       "      <td>25.99</td>\n",
       "      <td>3</td>\n",
       "      <td>3</td>\n",
       "      <td>3</td>\n",
       "      <td>333</td>\n",
       "      <td>VIP</td>\n",
       "    </tr>\n",
       "    <tr>\n",
       "      <th>2</th>\n",
       "      <td>0004aac84e0df4da2b147fca70cf8255</td>\n",
       "      <td>4</td>\n",
       "      <td>1</td>\n",
       "      <td>180.00</td>\n",
       "      <td>3</td>\n",
       "      <td>3</td>\n",
       "      <td>1</td>\n",
       "      <td>331</td>\n",
       "      <td>Persistent Low Spend</td>\n",
       "    </tr>\n",
       "    <tr>\n",
       "      <th>3</th>\n",
       "      <td>0005e1862207bf6ccc02e4228effd9a0</td>\n",
       "      <td>267</td>\n",
       "      <td>1</td>\n",
       "      <td>135.00</td>\n",
       "      <td>1</td>\n",
       "      <td>3</td>\n",
       "      <td>1</td>\n",
       "      <td>131</td>\n",
       "      <td>Churning Persistent</td>\n",
       "    </tr>\n",
       "    <tr>\n",
       "      <th>4</th>\n",
       "      <td>0006fdc98a402fceb4eb0ee528f6a8d4</td>\n",
       "      <td>120</td>\n",
       "      <td>1</td>\n",
       "      <td>13.90</td>\n",
       "      <td>1</td>\n",
       "      <td>3</td>\n",
       "      <td>3</td>\n",
       "      <td>133</td>\n",
       "      <td>Churning VIP</td>\n",
       "    </tr>\n",
       "  </tbody>\n",
       "</table>\n",
       "</div>"
      ],
      "text/plain": [
       "                 customer_unique_id  recency  frequency  monetary  R  F  M  \\\n",
       "0  0000f46a3911fa3c0805444483337064      240          1     69.00  1  3  2   \n",
       "1  0000f6ccb0745a6a4b88665a16c9f078       30          1     25.99  3  3  3   \n",
       "2  0004aac84e0df4da2b147fca70cf8255        4          1    180.00  3  3  1   \n",
       "3  0005e1862207bf6ccc02e4228effd9a0      267          1    135.00  1  3  1   \n",
       "4  0006fdc98a402fceb4eb0ee528f6a8d4      120          1     13.90  1  3  3   \n",
       "\n",
       "  RFM_score                   segment  \n",
       "0       132  Churning Good Persistent  \n",
       "1       333                       VIP  \n",
       "2       331      Persistent Low Spend  \n",
       "3       131       Churning Persistent  \n",
       "4       133              Churning VIP  "
      ]
     },
     "execution_count": 26,
     "metadata": {},
     "output_type": "execute_result"
    }
   ],
   "source": [
    "# Создадим словарь segt_map, где ключами укажем значения сегментов\n",
    "# Добавим столбец segment заменив на значения из словаря segt_map по ключам\n",
    "segt_map = {\n",
    "    r'111': 'Lost Economical',\n",
    "    r'112': 'One-time',\n",
    "    r'113': 'One-time',\n",
    "    r'121|122|123': 'Churning Rare',\n",
    "    r'131': 'Churning Persistent',\n",
    "    r'132': 'Churning Good Persistent',\n",
    "    r'133': 'Churning VIP',\n",
    "    r'211': 'Sleeping One-time Low Spend',\n",
    "    r'212|213': 'Sleeping One-time Low Spend',\n",
    "    r'221': 'Sleeping Rare Low Spend',\n",
    "    r'222': 'Sleeping Rare Medium Spend',\n",
    "    r'223': 'Sleeping Rare High Spend',\n",
    "    r'231': 'Sleeping Persistent Low Spend',\n",
    "    r'232': 'Sleeping Persistent Medium Spend',\n",
    "    r'233': 'Sleeping Persistent High Spend',\n",
    "    r'311': 'Newcomers Low Spend',\n",
    "    r'312': 'Newcomers Medium Spend',\n",
    "    r'313': 'Newcomers High Spend Potential VIP',\n",
    "    r'321': 'Persistent Low Spend',\n",
    "    r'322': 'Persistent Medium Spend',\n",
    "    r'323': 'Persistent High Spend',\n",
    "    r'331': 'Persistent Low Spend',\n",
    "    r'332': 'Persistent Medium Spend',\n",
    "    r'333': 'VIP'\n",
    "}\n",
    "\n",
    "rfm['segment'] = rfm['RFM_score'].replace(segt_map, regex=True)\n",
    "rfm.head()"
   ]
  },
  {
   "cell_type": "code",
   "execution_count": 52,
   "metadata": {
    "scrolled": false
   },
   "outputs": [
    {
     "data": {
      "image/png": "[encoded data removed]",
      "text/plain": [
       "<Figure size 720x432 with 1 Axes>"
      ]
     },
     "metadata": {
      "needs_background": "light"
     },
     "output_type": "display_data"
    }
   ],
   "source": [
    "# Подсчитаем количество клиентов в каждом сегменте\n",
    "segment_counts = rfm['segment'].value_counts(ascending=True)\n",
    "plt.figure(figsize=(10, 6))\n",
    "plt.barh(segment_counts.index, segment_counts.values)\n",
    "plt.xlabel('Segment')\n",
    "plt.ylabel('Count')\n",
    "plt.title('Segmentation')\n",
    "plt.xticks(rotation=90)\n",
    "plt.show()"
   ]
  },
  {
   "cell_type": "markdown",
   "metadata": {},
   "source": [
    "На гистограмме выше мы видими визуализацию аудитории"
   ]
  },
  {
   "cell_type": "code",
   "execution_count": 51,
   "metadata": {
    "scrolled": false
   },
   "outputs": [
    {
     "data": {
      "image/png": "[encoded data removed]",
      "text/plain": [
       "<Figure size 720x432 with 2 Axes>"
      ]
     },
     "metadata": {
      "needs_background": "light"
     },
     "output_type": "display_data"
    }
   ],
   "source": [
    "# Посмотрим распределения клиентов по значениям recency и frequency\n",
    "plt.figure(figsize=(10, 6))\n",
    "plt.scatter(rfm['recency'], rfm['frequency'], c=rfm['R'], cmap='viridis')\n",
    "plt.xlabel('Recency')\n",
    "plt.ylabel('Frequency')\n",
    "plt.title('RFM Segmentation: Recency vs Frequency')\n",
    "plt.colorbar(label='R Score')\n",
    "plt.show()"
   ]
  },
  {
   "cell_type": "markdown",
   "metadata": {},
   "source": [
    "На графике выше отображение значений R для визуализации от последней покупки пользователя в 2017 году до текущей даты. Мы видим, что подавляющее количество пользователей совершило последнюю покупку более 150 дней назад."
   ]
  },
  {
   "cell_type": "code",
   "execution_count": 62,
   "metadata": {},
   "outputs": [
    {
     "data": {
      "image/png": "[encoded data removed]",
      "text/plain": [
       "<Figure size 720x432 with 1 Axes>"
      ]
     },
     "metadata": {
      "needs_background": "light"
     },
     "output_type": "display_data"
    }
   ],
   "source": [
    "# Построим боксплот для распределения значений monetary для RFM score\n",
    "plt.figure(figsize=(10, 6))\n",
    "sns.boxplot(x=rfm['RFM_score'], y=rfm['monetary'])\n",
    "plt.xlabel('RFM Score')\n",
    "plt.ylabel('Monetary')\n",
    "plt.title('RFM Segmentation: Monetary Distribution')\n",
    "plt.xticks(rotation=45)\n",
    "plt.show()"
   ]
  },
  {
   "cell_type": "markdown",
   "metadata": {},
   "source": [
    "На боксплоте выше отображены суммы покупок по сегментам пользователей"
   ]
  }
 ],
 "metadata": {
  "kernelspec": {
   "display_name": "Python 3 (ipykernel)",
   "language": "python",
   "name": "python3"
  },
  "language_info": {
   "codemirror_mode": {
    "name": "ipython",
    "version": 3
   },
   "file_extension": ".py",
   "mimetype": "text/x-python",
   "name": "python",
   "nbconvert_exporter": "python",
   "pygments_lexer": "ipython3",
   "version": "3.9.13"
  }
 },
 "nbformat": 4,
 "nbformat_minor": 4
}
